{
 "cells": [
  {
   "cell_type": "code",
   "execution_count": null,
   "metadata": {
    "vscode": {
     "languageId": "plaintext"
    }
   },
   "outputs": [],
   "source": [
    "import pandas as pd\n",
    "import requests\n",
    "from PIL import Image\n",
    "from io import BytesIO\n",
    "import os\n",
    "\n",
    "# Directory to save the images\n",
    "SAVE_DIR = 'sdss_explore/batch5'\n",
    "os.makedirs(SAVE_DIR, exist_ok=True)\n",
    "\n",
    "# Function to fetch and save SDSS images\n",
    "def fetch_sdss_image(ra, dec, obj_id):\n",
    "    url = f\"http://skyserver.sdss.org/dr16/SkyServerWS/ImgCutout/getjpeg?ra={ra}&dec={dec}&scale=0.3&width=120&height=120\"\n",
    "    response = requests.get(url)\n",
    "    if response.status_code == 200:\n",
    "        img = Image.open(BytesIO(response.content))\n",
    "        file_path = os.path.join(SAVE_DIR, f\"{obj_id}.jpg\")\n",
    "        img.save(file_path)\n",
    "\n",
    "        print(f\"Image saved: {file_path}\")\n",
    "    else:\n",
    "        print(f\"Failed to fetch image for objId {obj_id}\")\n",
    "\n",
    "# Load the CSV file\n",
    "def load_csv(file_path):\n",
    "    df = pd.read_csv(file_path)\n",
    "    return df\n",
    "\n",
    "# Main function\n",
    "def main(csv_file):\n",
    "    df = load_csv(csv_file)\n",
    "    # Process only the first 10 rows\n",
    "    for index, row in df.iloc[2000:].iterrows():\n",
    "        obj_id = row['objid']\n",
    "        ra = row['ra']\n",
    "        dec = row['dec']\n",
    "        fetch_sdss_image(ra, dec, obj_id)\n",
    "\n",
    "if __name__ == \"__main__\":\n",
    "    # Path to your CSV file\n",
    "    csv_file = 'doubleIn4bandsMain_updated.csv'\n",
    "    main(csv_file)\n"
   ]
  }
 ],
 "metadata": {
  "language_info": {
   "name": "python"
  }
 },
 "nbformat": 4,
 "nbformat_minor": 2
}
