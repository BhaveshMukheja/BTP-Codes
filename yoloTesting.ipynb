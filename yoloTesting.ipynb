{
 "cells": [
  {
   "cell_type": "code",
   "execution_count": 5,
   "id": "876f5ca4",
   "metadata": {},
   "outputs": [
    {
     "name": "stderr",
     "output_type": "stream",
     "text": [
      "<>:47: SyntaxWarning: invalid escape sequence '\\C'\n",
      "<>:48: SyntaxWarning: invalid escape sequence '\\C'\n",
      "<>:49: SyntaxWarning: invalid escape sequence '\\C'\n",
      "<>:47: SyntaxWarning: invalid escape sequence '\\C'\n",
      "<>:48: SyntaxWarning: invalid escape sequence '\\C'\n",
      "<>:49: SyntaxWarning: invalid escape sequence '\\C'\n",
      "C:\\Users\\Bhavesh Mukheja\\AppData\\Local\\Temp\\ipykernel_21208\\3566775790.py:47: SyntaxWarning: invalid escape sequence '\\C'\n",
      "  \"weights_path\": \"D:\\College\\Research\\Astrophysics\\ProjectTry\\ModelMaking\\\\runs\\\\train_btp_model\\weights\\\\best.pt\",\n",
      "C:\\Users\\Bhavesh Mukheja\\AppData\\Local\\Temp\\ipykernel_21208\\3566775790.py:48: SyntaxWarning: invalid escape sequence '\\C'\n",
      "  \"source_dir\": \"D:\\College\\Research\\Astrophysics\\ProjectTry\\ModelMaking\\data\\\\test\\images\\Batch5\",\n",
      "C:\\Users\\Bhavesh Mukheja\\AppData\\Local\\Temp\\ipykernel_21208\\3566775790.py:49: SyntaxWarning: invalid escape sequence '\\C'\n",
      "  \"output_dir\": \"D:\\College\\Research\\Astrophysics\\ProjectTry\\ModelMaking\\data\\\\test\\images\\\\Batch5_predictions\",\n"
     ]
    },
    {
     "name": "stdout",
     "output_type": "stream",
     "text": [
      "\n",
      "Loaded model from D:\\College\\Research\\Astrophysics\\ProjectTry\\ModelMaking\\runs\\train_btp_model\\weights\\best.pt\n",
      "Found 7275 images in D:\\College\\Research\\Astrophysics\\ProjectTry\\ModelMaking\\data\\test\\images\\Batch5\n",
      "\n",
      "Starting inference with conf_thres=0.189, imgsz=640...\n",
      "\n",
      "WARNING  inference results will accumulate in RAM unless `stream=True` is passed, causing potential out-of-memory\n",
      "errors for large sources or long-running streams and videos. See https://docs.ultralytics.com/modes/predict/ for help.\n",
      "\n",
      "Example:\n",
      "    results = model(source=..., stream=True)  # generator of Results objects\n",
      "    for r in results:\n",
      "        boxes = r.boxes  # Boxes object for bbox outputs\n",
      "        masks = r.masks  # Masks object for segment masks outputs\n",
      "        probs = r.probs  # Class probabilities for classification outputs\n",
      "\n",
      "Results saved to \u001b[1mD:\\College\\Research\\Astrophysics\\ProjectTry\\ModelMaking\\data\\test\\images\\Batch5_predictions\\predict\u001b[0m\n",
      "4954 labels saved to D:\\College\\Research\\Astrophysics\\ProjectTry\\ModelMaking\\data\\test\\images\\Batch5_predictions\\predict\\labels\n",
      "\n",
      "Inference complete! Results saved to: D:\\College\\Research\\Astrophysics\\ProjectTry\\ModelMaking\\data\\test\\images\\Batch5_predictions\n"
     ]
    }
   ],
   "source": [
    "import os\n",
    "from ultralytics import YOLO\n",
    "from tqdm import tqdm\n",
    "\n",
    "def run_inference(weights_path, source_dir, output_dir, conf_thres=0.189, imgsz=640):\n",
    "    \"\"\"\n",
    "    Run YOLOv11 inference on a directory of images\n",
    "    \n",
    "    Args:\n",
    "        weights_path (str): Path to trained model weights (.pt file)\n",
    "        source_dir (str): Directory containing images to test\n",
    "        output_dir (str): Directory to save results\n",
    "        conf_thres (float): Confidence threshold (0-1)\n",
    "        imgsz (int): Image size for inference\n",
    "    \"\"\"\n",
    "    # Create output directory\n",
    "    os.makedirs(output_dir, exist_ok=True)\n",
    "    \n",
    "    # Load model\n",
    "    model = YOLO(weights_path)\n",
    "    print(f\"\\nLoaded model from {weights_path}\")\n",
    "    \n",
    "    # Get list of images\n",
    "    image_files = [f for f in os.listdir(source_dir) if f.lower().endswith(('.png', '.jpg', '.jpeg'))]\n",
    "    print(f\"Found {len(image_files)} images in {source_dir}\")\n",
    "    \n",
    "    # Run inference\n",
    "    print(f\"\\nStarting inference with conf_thres={conf_thres}, imgsz={imgsz}...\")\n",
    "    results = model.predict(\n",
    "        source=source_dir,\n",
    "        conf=conf_thres,\n",
    "        imgsz=imgsz,\n",
    "        save=True,\n",
    "        save_txt=True,\n",
    "        save_conf=True,\n",
    "        project=output_dir,\n",
    "        name='predict',\n",
    "        exist_ok=True,\n",
    "        verbose=False  # We'll show our own progress bar\n",
    "    )\n",
    "    \n",
    "    print(f\"\\nInference complete! Results saved to: {output_dir}\")\n",
    "\n",
    "if __name__ == \"__main__\":\n",
    "    # Configuration - Update these paths!\n",
    "    config = {\n",
    "        \"weights_path\": \"D:\\College\\Research\\Astrophysics\\ProjectTry\\ModelMaking\\\\runs\\\\train_btp_model\\weights\\\\best.pt\",\n",
    "        \"source_dir\": \"D:\\College\\Research\\Astrophysics\\ProjectTry\\ModelMaking\\data\\\\test\\images\\Batch5\",\n",
    "        \"output_dir\": \"D:\\College\\Research\\Astrophysics\\ProjectTry\\ModelMaking\\data\\\\test\\images\\\\Batch5_predictions\",\n",
    "        \"conf_thres\": 0.189,  # Confidence threshold\n",
    "        \"imgsz\": 640         # Inference size (pixels)\n",
    "    }\n",
    "    \n",
    "    run_inference(**config)"
   ]
  }
 ],
 "metadata": {
  "kernelspec": {
   "display_name": "Python 3",
   "language": "python",
   "name": "python3"
  },
  "language_info": {
   "codemirror_mode": {
    "name": "ipython",
    "version": 3
   },
   "file_extension": ".py",
   "mimetype": "text/x-python",
   "name": "python",
   "nbconvert_exporter": "python",
   "pygments_lexer": "ipython3",
   "version": "3.12.3"
  }
 },
 "nbformat": 4,
 "nbformat_minor": 5
}
