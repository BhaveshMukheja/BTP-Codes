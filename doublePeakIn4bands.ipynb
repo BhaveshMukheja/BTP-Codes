{
 "cells": [
  {
   "cell_type": "code",
   "execution_count": null,
   "metadata": {
    "vscode": {
     "languageId": "plaintext"
    }
   },
   "outputs": [],
   "source": [
    "# Import necessary libraries\n",
    "import os  # For directory and file operations\n",
    "import pandas as pd  # For handling and manipulating CSV data\n",
    "\n",
    "# Define the main directory containing subfolders\n",
    "main_dir = '/content/Blindtest-HQ/SDSS-Spectro/Raw-Doubles'\n",
    "\n",
    "# Define the output directory for filtered data\n",
    "output_dir = 'Double in 4 bands'\n",
    "if not os.path.exists(output_dir):  # Create the output directory if it doesn't exist\n",
    "    os.makedirs(output_dir)\n",
    "\n",
    "# Iterate over each subfolder in the main directory\n",
    "for subfolder in os.listdir(main_dir):\n",
    "    subfolder_path = os.path.join(main_dir, subfolder)  # Path to the current subfolder\n",
    "\n",
    "    if os.path.isdir(subfolder_path):  # Check if the path is a directory\n",
    "        # List all files in the current subfolder\n",
    "        files = os.listdir(subfolder_path)\n",
    "\n",
    "        # Check if the subfolder contains more than 2 files\n",
    "        if len(files) > 2:\n",
    "            # Construct the expected CSV file name\n",
    "            file_to_check = f'{subfolder}.csv'\n",
    "            file_path = os.path.join(subfolder_path, file_to_check)\n",
    "\n",
    "            # Check if the expected file is a CSV file\n",
    "            if file_to_check.endswith('.csv'):\n",
    "                # Load the CSV file into a pandas DataFrame\n",
    "                df = pd.read_csv(file_path)\n",
    "\n",
    "                # Filter rows where all four bands have 'DOUBLE' in the 'type' columns\n",
    "                filtered_df = df[\n",
    "                    (df['r-type'] == 'DOUBLE') & \n",
    "                    (df['i-type'] == 'DOUBLE') &\n",
    "                    (df['g-type'] == 'DOUBLE') & \n",
    "                    (df['u-type'] == 'DOUBLE')\n",
    "                ]\n",
    "\n",
    "                # Select only the required columns for the output\n",
    "                selected_columns = [\n",
    "                    'objid', 'ra', 'dec', 'u-type', 'u-peaks',\n",
    "                    'g-type', 'g-peaks', 'r-type', 'r-peaks', \n",
    "                    'i-type', 'i-peaks'\n",
    "                ]\n",
    "                filtered_df = filtered_df[selected_columns] if not filtered_df.empty else filtered_df\n",
    "\n",
    "                # Check if there are any rows after filtering\n",
    "                if not filtered_df.empty:\n",
    "                    # Define the output file path for the current subfolder\n",
    "                    output_file = os.path.join(output_dir, f'{subfolder}.csv')\n",
    "\n",
    "                    # Save the filtered DataFrame to the output file\n",
    "                    filtered_df.to_csv(output_file, index=False)\n",
    "                    print(f\"Filtered data saved to {output_file}\")\n"
   ]
  }
 ],
 "metadata": {
  "language_info": {
   "name": "python"
  }
 },
 "nbformat": 4,
 "nbformat_minor": 2
}
